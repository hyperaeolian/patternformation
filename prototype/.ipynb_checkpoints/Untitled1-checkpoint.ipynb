{
 "metadata": {
  "name": "",
  "signature": "sha256:cc4c47b9a17b5835a2e9b0f22bfbf1e84e5f2eed3ae3ea61a6b31bf48f5b7c90"
 },
 "nbformat": 3,
 "nbformat_minor": 0,
 "worksheets": []
}